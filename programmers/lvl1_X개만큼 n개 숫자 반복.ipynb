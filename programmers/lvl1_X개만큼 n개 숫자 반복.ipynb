{
 "cells": [
  {
   "cell_type": "markdown",
   "metadata": {},
   "source": [
    "함수 solution은 정수 x와 자연수 n을 입력 받아,\n",
    " x부터 시작해 x씩 증가하는 숫자를 n개 지니는 리스트를 리턴해야 합니다.\n",
    "  다음 제한 조건을 보고, 조건을 만족하는 함수, solution을 완성해주세요."
   ]
  },
  {
   "cell_type": "code",
   "execution_count": 144,
   "metadata": {},
   "outputs": [
    {
     "data": {
      "text/plain": [
       "[2, 4, 6, 8, 10]"
      ]
     },
     "execution_count": 144,
     "metadata": {},
     "output_type": "execute_result"
    }
   ],
   "source": [
    "def solution(x, n):\n",
    "    answer = []\n",
    "    for i in range(1, n+1):\n",
    "        answer.append(x*i)\n",
    "    return answer\n",
    "x = 2\n",
    "n = 5\n",
    "solution(x, n)\n",
    "\t# [2,4,6,8,10]"
   ]
  },
  {
   "cell_type": "code",
   "execution_count": null,
   "metadata": {},
   "outputs": [],
   "source": [
    "2\t5\t[2,4,6,8,10]"
   ]
  }
 ],
 "metadata": {
  "interpreter": {
   "hash": "8b00fc6e7241f1afecfce2cd2dd3cf04f946631bc2a387e19a10a3691a31d582"
  },
  "kernelspec": {
   "display_name": "Python 3.10.4 64-bit",
   "language": "python",
   "name": "python3"
  },
  "language_info": {
   "codemirror_mode": {
    "name": "ipython",
    "version": 3
   },
   "file_extension": ".py",
   "mimetype": "text/x-python",
   "name": "python",
   "nbconvert_exporter": "python",
   "pygments_lexer": "ipython3",
   "version": "3.10.4"
  },
  "orig_nbformat": 4
 },
 "nbformat": 4,
 "nbformat_minor": 2
}
