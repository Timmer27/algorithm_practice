{
 "cells": [
  {
   "cell_type": "code",
   "execution_count": 105,
   "metadata": {},
   "outputs": [],
   "source": [
    "def solution(id_list, report, k):\n",
    "    import numpy as np\n",
    "    answer = []\n",
    "    blocked_id = []\n",
    "    recipient_id = []\n",
    "\n",
    "    #중복 신고 방지를 위한 set중복제거\n",
    "    id_list = list(dict.fromkeys(id_list))\n",
    "\n",
    "    for name in id_list:\n",
    "        cnt = 0\n",
    "        \n",
    "        for report_name in report:\n",
    "            if name == report_name.split(' ')[1]:\n",
    "                cnt+=1\n",
    "        if cnt == k:\n",
    "            blocked_id.append(name)\n",
    "    \n",
    "    for name in id_list:\n",
    "        cnt_id = 0\n",
    "        for ids in blocked_id:\n",
    "            tmp = name + ' ' + ids\n",
    "            if tmp in report:\n",
    "                cnt_id += 1\n",
    "        answer.append(cnt_id)\n",
    "\n",
    "    return answer"
   ]
  },
  {
   "cell_type": "code",
   "execution_count": 197,
   "metadata": {},
   "outputs": [
    {
     "data": {
      "text/plain": [
       "[2, 1, 1, 0]"
      ]
     },
     "execution_count": 197,
     "metadata": {},
     "output_type": "execute_result"
    }
   ],
   "source": [
    "id_list = [\"muzi\", \"frodo\", \"apeach\", \"neo\"]\n",
    "report = [\"muzi frodo\",\"apeach frodo\",\"frodo neo\",\"muzi neo\",\"apeach muzi\"]\n",
    "k = 2\n",
    "\n",
    "from collections import defaultdict\n",
    "\n",
    "def solution(id_list, report, k):\n",
    "    answer = []\n",
    "    reported_list = defaultdict(set)\n",
    "    reporting_list = defaultdict(set)\n",
    "\n",
    "    for r in report:\n",
    "        reporting, reported = r.split()\n",
    "        reporting_list[reporting].add(reported)\n",
    "        reported_list[reported].add(reporting)\n",
    "\n",
    "    for id in id_list:\n",
    "        cnt = 0\n",
    "        for reported_ids in reporting_list[id]:\n",
    "            if len(reported_list[reported_ids]) >= k:\n",
    "                cnt += 1\n",
    "        answer.append(cnt)\n",
    "\n",
    "    return answer\n",
    "\n",
    "solution(id_list, report, k)"
   ]
  },
  {
   "cell_type": "code",
   "execution_count": 198,
   "metadata": {},
   "outputs": [
    {
     "data": {
      "text/plain": [
       "[2, 1, 1, 0]"
      ]
     },
     "execution_count": 198,
     "metadata": {},
     "output_type": "execute_result"
    }
   ],
   "source": [
    "id_list = [\"muzi\", \"frodo\", \"apeach\", \"neo\"]\n",
    "report = [\"muzi frodo\",\"apeach frodo\",\"frodo neo\",\"muzi neo\",\"apeach muzi\"]\n",
    "k = 2\n",
    "\n",
    "solution(id_list, report, k)\n",
    "#\t[2,1,1,0]"
   ]
  },
  {
   "cell_type": "markdown",
   "metadata": {},
   "source": [
    "문제 설명\n",
    "신입사원 무지는 게시판 불량 이용자를 신고하고 처리 결과를 메일로 발송하는 시스템을 개발하려 합니다.\n",
    "무지가 개발하려는 시스템은 다음과 같습니다.\n",
    "\n",
    "각 유저는 한 번에 한 명의 유저를 신고할 수 있습니다.\n",
    "신고 횟수에 제한은 없습니다. 서로 다른 유저를 계속해서 신고할 수 있습니다.\n",
    "한 유저를 여러 번 신고할 수도 있지만, 동일한 유저에 대한 신고 횟수는 1회로 처리됩니다.\n",
    "k번 이상 신고된 유저는 게시판 이용이 정지되며, 해당 유저를 신고한 모든 유저에게 정지 사실을 메일로 발송합니다.\n",
    "유저가 신고한 모든 내용을 취합하여 마지막에 한꺼번에 게시판 이용 정지를 시키면서 정지 메일을 발송합니다.\n",
    "다음은 전체 유저 목록이 [\"muzi\", \"frodo\", \"apeach\", \"neo\"]이고, k = 2(즉, 2번 이상 신고당하면 이용 정지)인 경우의 예시입니다."
   ]
  },
  {
   "cell_type": "code",
   "execution_count": null,
   "metadata": {},
   "outputs": [],
   "source": []
  }
 ],
 "metadata": {
  "interpreter": {
   "hash": "8b00fc6e7241f1afecfce2cd2dd3cf04f946631bc2a387e19a10a3691a31d582"
  },
  "kernelspec": {
   "display_name": "Python 3.10.4 64-bit",
   "language": "python",
   "name": "python3"
  },
  "language_info": {
   "codemirror_mode": {
    "name": "ipython",
    "version": 3
   },
   "file_extension": ".py",
   "mimetype": "text/x-python",
   "name": "python",
   "nbconvert_exporter": "python",
   "pygments_lexer": "ipython3",
   "version": "3.10.4"
  },
  "orig_nbformat": 4
 },
 "nbformat": 4,
 "nbformat_minor": 2
}
