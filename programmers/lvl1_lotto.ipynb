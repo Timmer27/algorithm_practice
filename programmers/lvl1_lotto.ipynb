{
 "cells": [
  {
   "cell_type": "code",
   "execution_count": 6,
   "metadata": {},
   "outputs": [],
   "source": [
    "def winner(num):\n",
    "    number = 0\n",
    "    if num == 6:\n",
    "        number = 1\n",
    "    elif num == 5:\n",
    "        number = 2\n",
    "    elif num == 4:\n",
    "        number = 3\n",
    "    elif num == 3:\n",
    "        number = 4\n",
    "    elif num == 2:\n",
    "        number = 5\n",
    "    else:\n",
    "        number = 6\n",
    "\n",
    "    return number\n",
    "def solution(lottos, win_nums):   \n",
    "    answer = []\n",
    "    \n",
    "    cnt = 0\n",
    "    zero_cnt = 0\n",
    "    for i in range(6):\n",
    "        if lottos[i] in win_nums:\n",
    "            cnt += 1\n",
    "        if lottos[i] == 0:\n",
    "            zero_cnt += 1\n",
    "    worst = winner(cnt)\n",
    "    best = winner(cnt + zero_cnt)\n",
    "\n",
    "    answer.append(best)\n",
    "    answer.append(worst)\n",
    "    \n",
    "    return answer"
   ]
  },
  {
   "cell_type": "code",
   "execution_count": 7,
   "metadata": {},
   "outputs": [
    {
     "data": {
      "text/plain": [
       "[3, 5]"
      ]
     },
     "execution_count": 7,
     "metadata": {},
     "output_type": "execute_result"
    }
   ],
   "source": [
    "lottos = [44, 1, 0, 0, 31, 25]\n",
    "win_nums = \t[31, 10, 45, 1, 6, 19]\n",
    "\n",
    "solution(lottos, win_nums)"
   ]
  },
  {
   "cell_type": "code",
   "execution_count": null,
   "metadata": {},
   "outputs": [],
   "source": [
    "1\t6개 번호가 모두 일치\n",
    "2\t5개 번호가 일치\n",
    "3\t4개 번호가 일치\n",
    "4\t3개 번호가 일치\n",
    "5\t2개 번호가 일치\n",
    "6(낙첨)\t그 외"
   ]
  },
  {
   "cell_type": "code",
   "execution_count": null,
   "metadata": {},
   "outputs": [],
   "source": []
  },
  {
   "cell_type": "code",
   "execution_count": null,
   "metadata": {},
   "outputs": [],
   "source": []
  },
  {
   "cell_type": "code",
   "execution_count": null,
   "metadata": {},
   "outputs": [],
   "source": []
  }
 ],
 "metadata": {
  "interpreter": {
   "hash": "8b00fc6e7241f1afecfce2cd2dd3cf04f946631bc2a387e19a10a3691a31d582"
  },
  "kernelspec": {
   "display_name": "Python 3.10.4 64-bit",
   "language": "python",
   "name": "python3"
  },
  "language_info": {
   "codemirror_mode": {
    "name": "ipython",
    "version": 3
   },
   "file_extension": ".py",
   "mimetype": "text/x-python",
   "name": "python",
   "nbconvert_exporter": "python",
   "pygments_lexer": "ipython3",
   "version": "3.10.4"
  },
  "orig_nbformat": 4
 },
 "nbformat": 4,
 "nbformat_minor": 2
}
