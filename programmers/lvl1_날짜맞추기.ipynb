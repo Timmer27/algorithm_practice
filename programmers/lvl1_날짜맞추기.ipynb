{
 "cells": [
  {
   "cell_type": "markdown",
   "metadata": {},
   "source": [
    "2016년 1월 1일은 금요일입니다. 2016년 a월 b일은 무슨 요일일까요? 두 수 a ,b를 입력받아 2016년 a월 b일이 무슨 요일인지 리턴하는 함수, solution을 완성하세요. 요일의 이름은 일요일부터 토요일까지 각각 SUN,MON,TUE,WED,THU,FRI,SAT\n",
    "\n",
    "입니다. 예를 들어 a=5, b=24라면 5월 24일은 화요일이므로 문자열 \"TUE\"를 반환하세요.\n",
    "\n",
    "제한 조건\n",
    "2016년은 윤년입니다.\n",
    "2016년 a월 b일은 실제로 있는 날입니다. (13월 26일이나 2월 45일같은 날짜는 주어지지 않습니다)\n"
   ]
  },
  {
   "cell_type": "code",
   "execution_count": 80,
   "metadata": {},
   "outputs": [
    {
     "name": "stdout",
     "output_type": "stream",
     "text": [
      "1\n"
     ]
    },
    {
     "data": {
      "text/plain": [
       "'TUE'"
      ]
     },
     "execution_count": 80,
     "metadata": {},
     "output_type": "execute_result"
    }
   ],
   "source": [
    "import datetime\n",
    "def solution(a, b):\n",
    "    answer = ['MON','TUE','WED','THU','FRI','SAT', 'SUN']\n",
    "    days = datetime.datetime(year = 2016, month= a, day = b)\n",
    "    print(days.weekday())\n",
    "    return answer[days.weekday()]\n",
    "\n",
    "solution(5,\t24)\n",
    "# 'abcdf'.index('c')"
   ]
  }
 ],
 "metadata": {
  "interpreter": {
   "hash": "8b00fc6e7241f1afecfce2cd2dd3cf04f946631bc2a387e19a10a3691a31d582"
  },
  "kernelspec": {
   "display_name": "Python 3.10.4 64-bit",
   "language": "python",
   "name": "python3"
  },
  "language_info": {
   "codemirror_mode": {
    "name": "ipython",
    "version": 3
   },
   "file_extension": ".py",
   "mimetype": "text/x-python",
   "name": "python",
   "nbconvert_exporter": "python",
   "pygments_lexer": "ipython3",
   "version": "3.10.4"
  },
  "orig_nbformat": 4
 },
 "nbformat": 4,
 "nbformat_minor": 2
}
