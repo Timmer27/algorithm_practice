{
 "cells": [
  {
   "cell_type": "markdown",
   "metadata": {},
   "source": [
    "1번 수포자가 찍는 방식: 1, 2, 3, 4, 5, 1, 2, 3, 4, 5, ...\n",
    "\n",
    "2번 수포자가 찍는 방식: 2, 1, 2, 3, 2, 4, 2, 5, 2, 1, 2, 3, 2, 4, 2, 5, ...\n",
    "\n",
    "3번 수포자가 찍는 방식: 3, 3, 1, 1, 2, 2, 4, 4, 5, 5, 3, 3, 1, 1, 2, 2, 4, 4, 5, 5, ...\n",
    "\n",
    "가장 높은 점수를 받은 사람이 여럿일 경우, return하는 값을 오름차순 정렬해주세요."
   ]
  },
  {
   "cell_type": "code",
   "execution_count": 2,
   "metadata": {},
   "outputs": [],
   "source": [
    "# [1,2,3,4,5]\t[1]\n",
    "# [1,3,2,4,2]\t[1,2,3]\n",
    "\n",
    "\n",
    "#1번 1++\n",
    "#2번 21 23 24 25 21 ...\n",
    "#3번 31245 **2"
   ]
  },
  {
   "cell_type": "code",
   "execution_count": null,
   "metadata": {},
   "outputs": [],
   "source": []
  },
  {
   "cell_type": "code",
   "execution_count": 37,
   "metadata": {},
   "outputs": [
    {
     "data": {
      "text/plain": [
       "[1, 2]"
      ]
     },
     "execution_count": 37,
     "metadata": {},
     "output_type": "execute_result"
    }
   ],
   "source": [
    "def solution(answers):\n",
    "    answer = []\n",
    "    scores = [0,0,0]\n",
    "\n",
    "    one = [1,2,3,4,5]\n",
    "    two = [2,1,2,3,2,4,2,5]\n",
    "    three = [3,3,1,1,2,2,4,4,5,5]\n",
    "\n",
    "    for idx, ans in enumerate(answers):\n",
    "        if ans == one[idx % len(one)]:\n",
    "            scores[0] += 1\n",
    "        if ans == two[idx % len(two)]:\n",
    "            scores[1] += 1\n",
    "        if ans == three[idx % len(three)]:\n",
    "            scores[2] += 1\n",
    "\n",
    "    for idx, score in enumerate(scores):\n",
    "        if score == max(scores):\n",
    "            answer.append(idx + 1)\n",
    "\n",
    "    return answer\n",
    "\n",
    "answers = [2,1,2,4,5,1]\n",
    "solution(answers)\n",
    "    "
   ]
  },
  {
   "cell_type": "code",
   "execution_count": 19,
   "metadata": {},
   "outputs": [
    {
     "data": {
      "text/plain": [
       "[1]"
      ]
     },
     "execution_count": 19,
     "metadata": {},
     "output_type": "execute_result"
    }
   ],
   "source": [
    "from collections import defaultdict\n",
    "def solution(answers):\n",
    "    answer = []\n",
    "\n",
    "    one = [1,2,3,4,5]\n",
    "    two = [2,1,2,3,2,4,2,5]\n",
    "    three = [3,3,1,1,2,2,4,4,5,5]\n",
    "\n",
    "    length = len(answers) / 5\n",
    "    if length > 1:\n",
    "        one = one * length\n",
    "        two = two * length\n",
    "        three = three * length\n",
    "    \n",
    "    fin = defaultdict(set)\n",
    "    # cnt_one = defaultdict(int)\n",
    "    # cnt_two = defaultdict(int)\n",
    "    # cnt_three = defaultdict(int)\n",
    "    cnt_one = 0\n",
    "    cnt_two = 0\n",
    "    cnt_three = 0\n",
    "    for i in range(len(answers)):\n",
    "        if one[i] == answers[i]:\n",
    "            cnt_one +=1 \n",
    "        if two[i] == answers[i]:\n",
    "            cnt_two +=1 \n",
    "        if three[i] == answers[i]:\n",
    "            cnt_three +=1 \n",
    "    \n",
    "    fin[1] = cnt_one\n",
    "    fin[2] = cnt_two\n",
    "    fin[3] = cnt_three\n",
    "\n",
    "    sorted_dict = sorted(fin.items(), key = lambda item : item[1], reverse=True)\n",
    "    for i, j in sorted_dict:\n",
    "        if j > 0:\n",
    "            answer.append(i)\n",
    "\n",
    "\n",
    "    return answer\n",
    "\n",
    "answers = [1,2,3,4,5]\n",
    "solution(answers)"
   ]
  },
  {
   "cell_type": "code",
   "execution_count": null,
   "metadata": {},
   "outputs": [],
   "source": []
  },
  {
   "cell_type": "code",
   "execution_count": null,
   "metadata": {},
   "outputs": [],
   "source": []
  }
 ],
 "metadata": {
  "interpreter": {
   "hash": "8b00fc6e7241f1afecfce2cd2dd3cf04f946631bc2a387e19a10a3691a31d582"
  },
  "kernelspec": {
   "display_name": "Python 3.10.4 64-bit",
   "language": "python",
   "name": "python3"
  },
  "language_info": {
   "codemirror_mode": {
    "name": "ipython",
    "version": 3
   },
   "file_extension": ".py",
   "mimetype": "text/x-python",
   "name": "python",
   "nbconvert_exporter": "python",
   "pygments_lexer": "ipython3",
   "version": "3.10.4"
  },
  "orig_nbformat": 4
 },
 "nbformat": 4,
 "nbformat_minor": 2
}
