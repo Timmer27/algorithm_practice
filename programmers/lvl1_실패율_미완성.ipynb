{
 "cells": [
  {
   "cell_type": "markdown",
   "metadata": {},
   "source": [
    "실패율은 다음과 같이 정의한다.\n",
    "스테이지에 도달했으나 아직 클리어하지 못한 플레이어의 수 / 스테이지에 도달한 플레이어 수\n",
    "\n",
    "전체 스테이지의 개수 N, 게임을 이용하는 사용자가 현재 멈춰있는 스테이지의 번호가 담긴 배열 stages가 매개변수로 주어질 때,\n",
    "실패율이 높은 스테이지부터 내림차순으로 스테이지의 번호가 담겨있는 배열을 return 하도록 solution 함수를 완성하라.\n",
    "\n",
    "제한사항\n",
    "스테이지의 개수 N은 1 이상 500 이하의 자연수이다.\n",
    "stages의 길이는 1 이상 200,000 이하이다.\n",
    "stages에는 1 이상 N + 1 이하의 자연수가 담겨있다.\n",
    "각 자연수는 사용자가 현재 도전 중인 스테이지의 번호를 나타낸다.\n",
    "단, N + 1 은 마지막 스테이지(N 번째 스테이지) 까지 클리어 한 사용자를 나타낸다.\n",
    "만약 실패율이 같은 스테이지가 있다면 작은 번호의 스테이지가 먼저 오도록 하면 된다.\n",
    "스테이지에 도달한 유저가 없는 경우 해당 스테이지의 실패율은 0 으로 정의한다."
   ]
  },
  {
   "cell_type": "code",
   "execution_count": null,
   "metadata": {},
   "outputs": [],
   "source": []
  },
  {
   "cell_type": "code",
   "execution_count": 86,
   "metadata": {},
   "outputs": [
    {
     "data": {
      "text/plain": [
       "[3, 4, 2, 1, 5]"
      ]
     },
     "execution_count": 86,
     "metadata": {},
     "output_type": "execute_result"
    }
   ],
   "source": [
    "def solution(N, stages):\n",
    "    answer = []\n",
    "    sorted_list = list(sorted(stages))\n",
    "    failure_percent = {}\n",
    "\n",
    "    # sorted_list = [i for i in sorted_list if i == 6]\n",
    "\n",
    "    for stage in sorted_list:\n",
    "        num_list = [j for j in sorted_list if j == stage]\n",
    "        if len(num_list) > 0 and stage != 6:\n",
    "            failure_percent[stage] = len(num_list) / len(sorted_list)\n",
    "        \n",
    "        if stage == 6:\n",
    "            stage = 5\n",
    "            num = len(num_list) - 1\n",
    "            failure_percent[stage] = num / len(sorted_list)\n",
    "\n",
    "        sorted_list = [i for i in sorted_list if i != stage]\n",
    "    # for i, j in enumerate(failure_percent.items(), reverse=True):\n",
    "\n",
    "    failure_percent = (sorted(failure_percent.items(), key=lambda x : x[1], reverse=True))\n",
    "    for i, j in failure_percent:\n",
    "        answer.append(i)\n",
    "    return answer\n",
    "\n",
    "#N\tstages\tresult\n",
    "N = 5\n",
    "stages = [2, 1, 2, 6, 2, 4, 3, 3]\n",
    "solution(N, stages)\n",
    "\n",
    "\n",
    "# result =\t[3,4,2,1,5]\n",
    "# 4\t[4,4,4,4,4]\t[4,1,2,3]"
   ]
  }
 ],
 "metadata": {
  "interpreter": {
   "hash": "8b00fc6e7241f1afecfce2cd2dd3cf04f946631bc2a387e19a10a3691a31d582"
  },
  "kernelspec": {
   "display_name": "Python 3.10.4 64-bit",
   "language": "python",
   "name": "python3"
  },
  "language_info": {
   "codemirror_mode": {
    "name": "ipython",
    "version": 3
   },
   "file_extension": ".py",
   "mimetype": "text/x-python",
   "name": "python",
   "nbconvert_exporter": "python",
   "pygments_lexer": "ipython3",
   "version": "3.10.4"
  },
  "orig_nbformat": 4
 },
 "nbformat": 4,
 "nbformat_minor": 2
}
