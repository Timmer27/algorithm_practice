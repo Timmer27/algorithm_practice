{
 "cells": [
  {
   "cell_type": "markdown",
   "metadata": {},
   "source": [
    "4번 학생은 3번 학생이나 5번 학생에게만 체육복을 빌려줄 수 있습니다\n",
    "\n",
    "전체 학생의 수 n, 체육복을 도난당한 학생들의 번호가 담긴 배열 lost, 여벌의 체육복을 가져온 학생들의 번호가 담긴 배열 reserve가 매개변수로 주어질 때, 체육수업을 들을 수 있는 학생의 최댓값을 return 하도록 solution 함수를 작성해주세요."
   ]
  },
  {
   "cell_type": "code",
   "execution_count": 2,
   "metadata": {},
   "outputs": [],
   "source": [
    "#n\tlost\treserve\treturn\n",
    "#5\t[2, 4]\t[1, 3, 5]\t5\n",
    "#5\t[2, 4]\t[3]         4\n",
    "#3\t[3]\t    [1]         2\n",
    "\n",
    "# 전체 학생의 수 n\n",
    "# 체육복을 도난당한 학생들의 번호가 담긴 배열 lost\n",
    "#  여벌의 체육복을 가져온 학생들의 번호가 담긴 배열 reserve\n",
    "\n",
    "# 예제 #1\n",
    "# 1번 학생이 2번 학생에게 체육복을 빌려주고, 3번 학생이나 5번 학생이 4번 학생에게 \n",
    "# 체육복을 빌려주면 학생 5명이 체육수업을 들을 수 있습니다.\n",
    "\n",
    "# 예제 #2\n",
    "# 3번 학생이 2번 학생이나 4번 학생에게 체육복을 빌려주면\n",
    "# 학생 4명이 체육수업을 들을 수 있습니다."
   ]
  },
  {
   "cell_type": "code",
   "execution_count": 54,
   "metadata": {},
   "outputs": [
    {
     "name": "stdout",
     "output_type": "stream",
     "text": [
      "{2, 4}\n"
     ]
    },
    {
     "data": {
      "text/plain": [
       "4"
      ]
     },
     "execution_count": 54,
     "metadata": {},
     "output_type": "execute_result"
    }
   ],
   "source": [
    "def solution(n, lost, reverse):\n",
    "    answer = 0\n",
    "\n",
    "    set_reverse = set(reverse) - set(lost)\n",
    "    set_lost = set(lost) - set(reverse)\n",
    "\n",
    "    for i in set_reverse:\n",
    "        if i-1 in set_lost:\n",
    "            set_lost.remove(i-1)\n",
    "        elif i+1 in set_lost:\n",
    "            set_lost.remove(i+1)\n",
    "    return n - len(set_lost)\n",
    "\n",
    "\n",
    "n=5\n",
    "lost = [2,4]\n",
    "reverse = [3]\n",
    "solution(n, lost, reverse)"
   ]
  },
  {
   "cell_type": "code",
   "execution_count": null,
   "metadata": {},
   "outputs": [],
   "source": []
  }
 ],
 "metadata": {
  "interpreter": {
   "hash": "8b00fc6e7241f1afecfce2cd2dd3cf04f946631bc2a387e19a10a3691a31d582"
  },
  "kernelspec": {
   "display_name": "Python 3.10.4 64-bit",
   "language": "python",
   "name": "python3"
  },
  "language_info": {
   "codemirror_mode": {
    "name": "ipython",
    "version": 3
   },
   "file_extension": ".py",
   "mimetype": "text/x-python",
   "name": "python",
   "nbconvert_exporter": "python",
   "pygments_lexer": "ipython3",
   "version": "3.10.4"
  },
  "orig_nbformat": 4
 },
 "nbformat": 4,
 "nbformat_minor": 2
}
